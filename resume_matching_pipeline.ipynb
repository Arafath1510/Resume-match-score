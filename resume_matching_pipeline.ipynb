{
 "cells": [
  {
   "cell_type": "code",
   "execution_count": null,
   "id": "9af02959-dbf8-47f2-852a-16c724bbe5a5",
   "metadata": {},
   "outputs": [],
   "source": [
    "# !pip install pandas\n",
    "# !pip install numpy\n",
    "# !pip install matplotlib\n",
    "# !pip install seaborn\n",
    "# !pip install scikit-learn\n",
    "\n",
    "# !pip list"
   ]
  },
  {
   "cell_type": "markdown",
   "id": "c56f1133-c8b1-4da5-9632-3c23d8b35315",
   "metadata": {},
   "source": [
    "Importing Libraries"
   ]
  },
  {
   "cell_type": "code",
   "execution_count": 1,
   "id": "a5967836-8ae3-4ae6-aae4-6aff151fd17c",
   "metadata": {},
   "outputs": [],
   "source": [
    "import pandas as pd\n",
    "from sklearn.feature_extraction.text import TfidfVectorizer\n",
    "from sklearn.metrics.pairwise import cosine_similarity\n",
    "from sklearn.model_selection import train_test_split\n",
    "from sklearn.ensemble import RandomForestClassifier\n",
    "from sklearn.metrics import classification_report\n",
    "from tqdm import tqdm"
   ]
  },
  {
   "cell_type": "markdown",
   "id": "f7813150-5619-41a9-b7d7-e4896dc6a01e",
   "metadata": {},
   "source": [
    "Loading dataset into dataframe"
   ]
  },
  {
   "cell_type": "code",
   "execution_count": 5,
   "id": "2f87318e-114b-4544-8640-c3e6e463e49b",
   "metadata": {},
   "outputs": [
    {
     "name": "stderr",
     "output_type": "stream",
     "text": [
      "<>:2: SyntaxWarning: invalid escape sequence '\\D'\n",
      "<>:2: SyntaxWarning: invalid escape sequence '\\D'\n",
      "C:\\Users\\HP\\AppData\\Local\\Temp\\ipykernel_16164\\3003074318.py:2: SyntaxWarning: invalid escape sequence '\\D'\n",
      "  file_path = \"C:\\\\Users\\\\HP\\Desktop\\\\py test\\\\resume_data.csv\"  # Update path if needed\n"
     ]
    }
   ],
   "source": [
    "# Load dataset\n",
    "file_path = \"C:\\\\Users\\\\HP\\Desktop\\\\py test\\\\resume_data.csv\"  # Update path if needed\n",
    "df = pd.read_csv(file_path)"
   ]
  },
  {
   "cell_type": "markdown",
   "id": "9410d5af-5004-41df-a2e1-4f02d6f56c8b",
   "metadata": {},
   "source": [
    "Data Pre-Processing"
   ]
  },
  {
   "cell_type": "code",
   "execution_count": 7,
   "id": "0afbb5d0-98ab-450b-9371-7e74b630f098",
   "metadata": {},
   "outputs": [],
   "source": [
    "# Fill missing values and combine text fields for resume and job\n",
    "df['resume_text'] = (\n",
    "    df['skills'].fillna('') + ' ' +\n",
    "    df['career_objective'].fillna('') + ' ' +\n",
    "    df['responsibilities'].fillna('')\n",
    ")"
   ]
  },
  {
   "cell_type": "code",
   "execution_count": 9,
   "id": "ed90a362-b8b6-44c8-a299-0a408779a102",
   "metadata": {},
   "outputs": [],
   "source": [
    "df['job_text'] = (\n",
    "    df['skills_required'].fillna('') + ' ' +\n",
    "    df['responsibilities.1'].fillna('') + ' ' +\n",
    "    df['educationaL_requirements'].fillna('')\n",
    ")"
   ]
  },
  {
   "cell_type": "markdown",
   "id": "6b8d156d-2bd3-4f1d-9f9c-ff6131060b26",
   "metadata": {},
   "source": [
    "TF-IDF Vectorization"
   ]
  },
  {
   "cell_type": "code",
   "execution_count": 11,
   "id": "ab4a4665-ecbe-4044-ad41-31b9b512e383",
   "metadata": {},
   "outputs": [],
   "source": [
    "# TF-IDF Vectorization\n",
    "vectorizer = TfidfVectorizer(stop_words='english')\n",
    "resume_vectors = vectorizer.fit_transform(df['resume_text'])\n",
    "job_vectors = vectorizer.transform(df['job_text'])"
   ]
  },
  {
   "cell_type": "markdown",
   "id": "85a2e811-4109-4b09-bd61-05b63e232ebc",
   "metadata": {},
   "source": [
    "Cosine similarity-based matching"
   ]
  },
  {
   "cell_type": "code",
   "execution_count": 13,
   "id": "21a6637e-2c39-4548-a0bd-07af4c2b72af",
   "metadata": {},
   "outputs": [
    {
     "name": "stderr",
     "output_type": "stream",
     "text": [
      "100%|██████████| 9544/9544 [00:07<00:00, 1231.62it/s]\n"
     ]
    }
   ],
   "source": [
    "# Compute cosine similarity row-wise\n",
    "match_scores = []\n",
    "for i in tqdm(range(len(df))):\n",
    "    resume_vec = resume_vectors[i]\n",
    "    job_vec = job_vectors[i]\n",
    "    sim = cosine_similarity(resume_vec, job_vec)[0][0]\n",
    "    match_scores.append(sim)\n",
    "\n",
    "df['computed_match_score'] = match_scores"
   ]
  },
  {
   "cell_type": "code",
   "execution_count": 15,
   "id": "4a5a1e04-1c71-4065-9f5a-d9ddcfaae702",
   "metadata": {
    "collapsed": true,
    "jupyter": {
     "outputs_hidden": true
    }
   },
   "outputs": [
    {
     "name": "stdout",
     "output_type": "stream",
     "text": [
      "\n",
      "Sample of Matching Scores:\n",
      "                                   job_position_name  computed_match_score  \\\n",
      "0                           Senior Software Engineer              0.213016   \n",
      "1                     Machine Learning (ML) Engineer              0.724611   \n",
      "2  Executive/ Senior Executive- Trade Marketing, ...              0.620561   \n",
      "3                     Business Development Executive              0.310939   \n",
      "4                                Senior iOS Engineer              0.338474   \n",
      "\n",
      "   matched_score  \n",
      "0       0.850000  \n",
      "1       0.750000  \n",
      "2       0.416667  \n",
      "3       0.760000  \n",
      "4       0.650000  \n"
     ]
    }
   ],
   "source": [
    "# Save sample of match scores\n",
    "print(\"\\nSample of Matching Scores:\")\n",
    "print(df[['job_position_name', 'computed_match_score', 'matched_score']].head())"
   ]
  },
  {
   "cell_type": "markdown",
   "id": "4db1b509-4c1e-4437-a5fb-07436cfcc9d4",
   "metadata": {},
   "source": [
    "Classification steps is followed"
   ]
  },
  {
   "cell_type": "code",
   "execution_count": 17,
   "id": "16857084-add5-484c-b8db-d1fc4f318c45",
   "metadata": {},
   "outputs": [],
   "source": [
    "# Classification: Predict job_position_name from resume_text\n",
    "X = resume_vectors\n",
    "y = df['job_position_name']"
   ]
  },
  {
   "cell_type": "code",
   "execution_count": 19,
   "id": "5fc718ff-ec9c-436a-a1e8-b6203a9cf3c6",
   "metadata": {},
   "outputs": [],
   "source": [
    "# Train/Test Split\n",
    "X_train, X_test, y_train, y_test = train_test_split(X, y, test_size=0.2, stratify=y, random_state=42)\n"
   ]
  },
  {
   "cell_type": "code",
   "execution_count": 21,
   "id": "a06173d2-7dfd-479b-b62c-2cf6d42d6b53",
   "metadata": {},
   "outputs": [],
   "source": [
    "# Train Random Forest Classifier\n",
    "clf = RandomForestClassifier(n_estimators=100, random_state=42)\n",
    "clf.fit(X_train, y_train)\n",
    "y_pred = clf.predict(X_test)"
   ]
  },
  {
   "cell_type": "markdown",
   "id": "e9ffd198-d725-41a6-9294-ec9389f567a5",
   "metadata": {},
   "source": [
    "Evaluation"
   ]
  },
  {
   "cell_type": "code",
   "execution_count": 22,
   "id": "2bd0fa06-c33d-4999-9a6e-b6c28bae811c",
   "metadata": {
    "collapsed": true,
    "jupyter": {
     "outputs_hidden": true
    },
    "scrolled": true
   },
   "outputs": [
    {
     "name": "stdout",
     "output_type": "stream",
     "text": [
      "\n",
      "Classification Report:\n",
      "                                                                                         precision    recall  f1-score   support\n",
      "\n",
      "                                                                            AI Engineer       1.00      1.00      1.00        68\n",
      "                                                 Asst. Manager/ Manger (Administrative)       1.00      1.00      1.00        68\n",
      "                                                         Business Development Executive       1.00      1.00      1.00        68\n",
      "                                                                         Civil Engineer       1.00      1.00      1.00        69\n",
      "                                                                          Data Engineer       1.00      1.00      1.00        68\n",
      "                                                                  Data Science Engineer       1.00      1.00      1.00        68\n",
      "                                                           Database Administrator (DBA)       1.00      1.00      1.00        68\n",
      "                                                                        DevOps Engineer       1.00      1.00      1.00        68\n",
      "                                                                        Executive - VAT       1.00      1.00      1.00        68\n",
      "                         Executive/ Senior Executive- Trade Marketing, Hygiene Products       1.00      1.00      1.00        68\n",
      "                                                           Executive/ Sr. Executive -IT       1.00      1.00      1.00        68\n",
      "                                                 Full Stack Developer (Python,React js)       1.00      1.00      1.00        68\n",
      "                                                                             HR Officer       1.00      1.00      1.00        69\n",
      "                                 Head of Internal Control & Compliance (ICC) - SEVP/DMD       1.00      1.00      1.00        69\n",
      "                            Intern (Generative AI Engineering - 2D/3D Image Generation)       1.00      1.00      1.00        68\n",
      "                                                         Machine Learning (ML) Engineer       1.00      1.00      1.00        68\n",
      "                                                        Management Trainee - Mechanical       1.00      1.00      1.00        68\n",
      "                                              Manager- Human Resource Management (HRM)\n",
      "       1.00      1.00      1.00        68\n",
      "                                                                      Marketing Officer       1.00      1.00      1.00        68\n",
      "                                                                    Mechanical Designer       1.00      1.00      1.00        68\n",
      "                                                                    Mechanical Engineer       1.00      1.00      1.00        68\n",
      "                                                               Network Support Engineer       1.00      1.00      1.00        68\n",
      "                                                            Project Coordinator (Civil)       1.00      1.00      1.00        69\n",
      "                                                               Senior Software Engineer       1.00      1.00      1.00        68\n",
      "                                                                    Senior iOS Engineer       1.00      1.00      1.00        68\n",
      "                                                                          Site Engineer       1.00      1.00      1.00        69\n",
      "                                                Sr.Officer / Executive - Internal Audit       1.00      1.00      1.00        68\n",
      "System Administrator (Operation & Maintenance of Server, Storage & Service Desk System)       1.00      1.00      1.00        68\n",
      "\n",
      "                                                                               accuracy                           1.00      1909\n",
      "                                                                              macro avg       1.00      1.00      1.00      1909\n",
      "                                                                           weighted avg       1.00      1.00      1.00      1909\n",
      "\n"
     ]
    }
   ],
   "source": [
    "report = classification_report(y_test, y_pred, zero_division=0)\n",
    "print(\"\\nClassification Report:\")\n",
    "print(report)"
   ]
  },
  {
   "cell_type": "code",
   "execution_count": 27,
   "id": "5dd512d8-98ef-4ced-b1af-1bb497a03a78",
   "metadata": {},
   "outputs": [],
   "source": [
    "#save result in csv or can view in console\n",
    "df.to_csv(\"resume_matching_results.csv\", index=False)\n",
    "# df"
   ]
  },
  {
   "cell_type": "code",
   "execution_count": null,
   "id": "5c829c6e-1a25-4952-ba34-4ee3fd7ae25f",
   "metadata": {},
   "outputs": [],
   "source": []
  }
 ],
 "metadata": {
  "kernelspec": {
   "display_name": "Python [conda env:base] *",
   "language": "python",
   "name": "conda-base-py"
  },
  "language_info": {
   "codemirror_mode": {
    "name": "ipython",
    "version": 3
   },
   "file_extension": ".py",
   "mimetype": "text/x-python",
   "name": "python",
   "nbconvert_exporter": "python",
   "pygments_lexer": "ipython3",
   "version": "3.12.7"
  }
 },
 "nbformat": 4,
 "nbformat_minor": 5
}
